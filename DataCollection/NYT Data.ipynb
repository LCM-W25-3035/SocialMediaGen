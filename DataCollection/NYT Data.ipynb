{
 "cells": [
  {
   "cell_type": "markdown",
   "id": "9caf1e50",
   "metadata": {
    "papermill": {
     "duration": 0.003851,
     "end_time": "2025-01-20T09:05:13.320316",
     "exception": false,
     "start_time": "2025-01-20T09:05:13.316465",
     "status": "completed"
    },
    "tags": []
   },
   "source": [
    "### This notebook is used for auto updating the NYT Articles: 2.1M+ (2000-Present) dataset using auto scheduled daily runs."
   ]
  },
  {
   "cell_type": "code",
   "execution_count": 3,
   "id": "cf775b29",
   "metadata": {
    "_cell_guid": "b1076dfc-b9ad-4769-8c92-a6c4dae69d19",
    "_uuid": "8f2839f25d086af736a60e9eeb907d3b93b6e0e5",
    "papermill": {
     "duration": 11.106019,
     "end_time": "2025-01-20T09:05:24.436145",
     "exception": false,
     "start_time": "2025-01-20T09:05:13.330126",
     "status": "completed"
    },
    "tags": []
   },
   "outputs": [
    {
     "name": "stdout",
     "output_type": "stream",
     "text": [
      "Collecting pynytimes\n",
      "  Downloading pynytimes-0.10.0-py3-none-any.whl.metadata (8.2 kB)\n",
      "Requirement already satisfied: requests<3.0.0,>=2.10.0 in c:\\users\\user\\anaconda3\\lib\\site-packages (from pynytimes) (2.32.3)\n",
      "Requirement already satisfied: urllib3 in c:\\users\\user\\anaconda3\\lib\\site-packages (from pynytimes) (2.2.3)\n",
      "Requirement already satisfied: charset-normalizer<4,>=2 in c:\\users\\user\\anaconda3\\lib\\site-packages (from requests<3.0.0,>=2.10.0->pynytimes) (3.3.2)\n",
      "Requirement already satisfied: idna<4,>=2.5 in c:\\users\\user\\anaconda3\\lib\\site-packages (from requests<3.0.0,>=2.10.0->pynytimes) (3.7)\n",
      "Requirement already satisfied: certifi>=2017.4.17 in c:\\users\\user\\anaconda3\\lib\\site-packages (from requests<3.0.0,>=2.10.0->pynytimes) (2024.12.14)\n",
      "Downloading pynytimes-0.10.0-py3-none-any.whl (20 kB)\n",
      "Installing collected packages: pynytimes\n",
      "Successfully installed pynytimes-0.10.0\n"
     ]
    }
   ],
   "source": [
    "!pip install --upgrade pynytimes"
   ]
  },
  {
   "cell_type": "code",
   "execution_count": 5,
   "id": "546c7f7f",
   "metadata": {
    "papermill": {
     "duration": 0.020617,
     "end_time": "2025-01-20T09:05:24.460733",
     "exception": false,
     "start_time": "2025-01-20T09:05:24.440116",
     "status": "completed"
    },
    "tags": []
   },
   "outputs": [],
   "source": [
    "from pynytimes import NYTAPI\n",
    "from datetime import datetime\n",
    "import pandas as pd"
   ]
  },
  {
   "cell_type": "code",
   "execution_count": 7,
   "id": "f30bede7",
   "metadata": {
    "papermill": {
     "duration": 0.012078,
     "end_time": "2025-01-20T09:05:24.477072",
     "exception": false,
     "start_time": "2025-01-20T09:05:24.464994",
     "status": "completed"
    },
    "tags": []
   },
   "outputs": [],
   "source": [
    "nyt = NYTAPI(\"15MPlclMxKGuTa7WreSZ9IYcbjoo45sL\", parse_dates=True)"
   ]
  },
  {
   "cell_type": "code",
   "execution_count": 9,
   "id": "941246fd",
   "metadata": {
    "papermill": {
     "duration": 0.011507,
     "end_time": "2025-01-20T09:05:24.492301",
     "exception": false,
     "start_time": "2025-01-20T09:05:24.480794",
     "status": "completed"
    },
    "tags": []
   },
   "outputs": [],
   "source": [
    "current_year = datetime.now().year\n",
    "current_month = datetime.now().month"
   ]
  },
  {
   "cell_type": "code",
   "execution_count": 13,
   "id": "67191373",
   "metadata": {
    "papermill": {
     "duration": 119.018295,
     "end_time": "2025-01-20T09:07:23.514629",
     "exception": false,
     "start_time": "2025-01-20T09:05:24.496334",
     "status": "completed"
    },
    "tags": []
   },
   "outputs": [
    {
     "name": "stderr",
     "output_type": "stream",
     "text": [
      "C:\\Users\\User\\AppData\\Local\\Temp\\ipykernel_3020\\3708448926.py:1: DtypeWarning: Columns (5) have mixed types. Specify dtype option on import or set low_memory=False.\n",
      "  df = pd.read_csv('C:/Users/User/Desktop/second year/Big Data Capstone - Bhavik/nyt-metadata.csv')\n"
     ]
    },
    {
     "data": {
      "text/plain": [
       "2191486"
      ]
     },
     "execution_count": 13,
     "metadata": {},
     "output_type": "execute_result"
    }
   ],
   "source": [
    "df = pd.read_csv('C:/Users/User/Desktop/second year/Big Data Capstone - Bhavik/nyt-metadata.csv')\n",
    "len(df)"
   ]
  },
  {
   "cell_type": "code",
   "execution_count": 15,
   "id": "c3174cb7",
   "metadata": {
    "papermill": {
     "duration": 0.017821,
     "end_time": "2025-01-20T09:07:23.536507",
     "exception": false,
     "start_time": "2025-01-20T09:07:23.518686",
     "status": "completed"
    },
    "tags": []
   },
   "outputs": [],
   "source": [
    "last_month = int((str(df['pub_date'][len(df) - 1]))[5:7])\n",
    "last_year = int((str(df['pub_date'][len(df) - 1]))[0:4])"
   ]
  },
  {
   "cell_type": "code",
   "execution_count": 17,
   "id": "1dd0b9e4",
   "metadata": {
    "papermill": {
     "duration": 0.016228,
     "end_time": "2025-01-20T09:07:23.559588",
     "exception": false,
     "start_time": "2025-01-20T09:07:23.543360",
     "status": "completed"
    },
    "tags": []
   },
   "outputs": [
    {
     "data": {
      "text/plain": [
       "1"
      ]
     },
     "execution_count": 17,
     "metadata": {},
     "output_type": "execute_result"
    }
   ],
   "source": [
    "last_month"
   ]
  },
  {
   "cell_type": "code",
   "execution_count": 19,
   "id": "2a20b7da",
   "metadata": {
    "papermill": {
     "duration": 0.01318,
     "end_time": "2025-01-20T09:07:23.576797",
     "exception": false,
     "start_time": "2025-01-20T09:07:23.563617",
     "status": "completed"
    },
    "tags": []
   },
   "outputs": [
    {
     "data": {
      "text/plain": [
       "2025"
      ]
     },
     "execution_count": 19,
     "metadata": {},
     "output_type": "execute_result"
    }
   ],
   "source": [
    "last_year"
   ]
  },
  {
   "cell_type": "code",
   "execution_count": 23,
   "id": "94a2bdb2",
   "metadata": {
    "papermill": {
     "duration": 0.01508,
     "end_time": "2025-01-20T09:07:23.595931",
     "exception": false,
     "start_time": "2025-01-20T09:07:23.580851",
     "status": "completed"
    },
    "tags": []
   },
   "outputs": [],
   "source": [
    "if (last_year != current_year) or (last_month != current_month):\n",
    "    all_data = []\n",
    "    sum_len = 0\n",
    "\n",
    "    i = last_year\n",
    "    break_while = True\n",
    "    while break_while:\n",
    "        for j in range(last_month + 1, 13):\n",
    "            if i == current_year and j == current_month + 1:\n",
    "                break_while = False\n",
    "                break\n",
    "            data = nyt.archive_metadata(date=datetime(i, j, 1))\n",
    "            print(\"year:\", i, \"month:\", j, \"len:\", len(data))\n",
    "            sum_len += len(data)\n",
    "            all_data += data\n",
    "        last_month = 0  # Reset the last_month to 0 after the first iteration\n",
    "        i += 1\n",
    "    print(\"Total length:\", sum_len)\n",
    "    print(\"Total data:\", len(all_data))\n",
    "    df_temp = pd.DataFrame(all_data)\n",
    "    df_temp.head(5)\n",
    "    df = pd.concat([df, df_temp])"
   ]
  },
  {
   "cell_type": "code",
   "execution_count": 27,
   "id": "3e4d3ce4",
   "metadata": {
    "papermill": {
     "duration": 0.015386,
     "end_time": "2025-01-20T09:07:23.632916",
     "exception": false,
     "start_time": "2025-01-20T09:07:23.617530",
     "status": "completed"
    },
    "tags": []
   },
   "outputs": [
    {
     "data": {
      "text/plain": [
       "2191486"
      ]
     },
     "execution_count": 27,
     "metadata": {},
     "output_type": "execute_result"
    }
   ],
   "source": [
    "len(df)"
   ]
  },
  {
   "cell_type": "code",
   "execution_count": 29,
   "id": "22020ae6",
   "metadata": {
    "papermill": {
     "duration": 144.776202,
     "end_time": "2025-01-20T09:09:48.413397",
     "exception": false,
     "start_time": "2025-01-20T09:07:23.637195",
     "status": "completed"
    },
    "tags": []
   },
   "outputs": [],
   "source": [
    "df.to_csv(\"nyt-metadata.csv\", index = False)"
   ]
  },
  {
   "cell_type": "code",
   "execution_count": null,
   "id": "14386fc8",
   "metadata": {
    "papermill": {
     "duration": 0.003866,
     "end_time": "2025-01-20T09:09:48.432743",
     "exception": false,
     "start_time": "2025-01-20T09:09:48.428877",
     "status": "completed"
    },
    "tags": []
   },
   "outputs": [],
   "source": []
  }
 ],
 "metadata": {
  "kernelspec": {
   "display_name": "Python [conda env:base] *",
   "language": "python",
   "name": "conda-base-py"
  },
  "language_info": {
   "codemirror_mode": {
    "name": "ipython",
    "version": 3
   },
   "file_extension": ".py",
   "mimetype": "text/x-python",
   "name": "python",
   "nbconvert_exporter": "python",
   "pygments_lexer": "ipython3",
   "version": "3.12.7"
  },
  "papermill": {
   "default_parameters": {},
   "duration": 288.192418,
   "end_time": "2025-01-20T09:09:50.959497",
   "environment_variables": {},
   "exception": null,
   "input_path": "__notebook__.ipynb",
   "output_path": "__notebook__.ipynb",
   "parameters": {},
   "start_time": "2025-01-20T09:05:02.767079",
   "version": "2.4.0"
  }
 },
 "nbformat": 4,
 "nbformat_minor": 5
}
