{
 "cells": [
  {
   "cell_type": "code",
   "execution_count": 4,
   "metadata": {},
   "outputs": [
    {
     "name": "stdout",
     "output_type": "stream",
     "text": [
      "Combined data saved to articles.json.\n"
     ]
    }
   ],
   "source": [
    "import requests\n",
    "import json\n",
    "\n",
    "# Step 1: Load existing data from articles.json (if it exists)\n",
    "try:\n",
    "    with open('articles.json', 'r', encoding='utf-8') as f:\n",
    "        existing_data = json.load(f)\n",
    "        # If the file is not in the expected format, you can add checks here\n",
    "except FileNotFoundError:\n",
    "    # If the file doesn't exist yet, we just start with an empty structure\n",
    "    existing_data = {}\n",
    "\n",
    "# Step 2: Extract existing articles (if any)\n",
    "existing_articles = existing_data.get('articles', [])\n",
    "\n",
    "# Step 3: Fetch new data\n",
    "api_key = \"c97ba69e6b0043b9bc149f5334359fd0\"\n",
    "endpoint = \"https://newsapi.org/v2/everything\"\n",
    "\n",
    "parameters = {\n",
    "    'q': 'technology',    \n",
    "    'apiKey': api_key,    \n",
    "    'language': 'en',     \n",
    "    'pageSize': 10\n",
    "}\n",
    "\n",
    "response = requests.get(endpoint, params=parameters)\n",
    "new_data = response.json()\n",
    "\n",
    "# Step 4: Extract new articles from the response\n",
    "new_articles = new_data.get('articles', [])\n",
    "\n",
    "# Step 5: Combine old and new articles\n",
    "combined_articles = existing_articles + new_articles\n",
    "\n",
    "# Put them back into a dictionary with the same structure\n",
    "combined_data = {\n",
    "    \"status\": new_data.get(\"status\", existing_data.get(\"status\", \"ok\")),\n",
    "    \"totalResults\": new_data.get(\"totalResults\", 0) + len(existing_articles),  # optional\n",
    "    \"articles\": combined_articles\n",
    "}\n",
    "\n",
    "# Step 6: Save the combined data to the file\n",
    "with open('articles.json', 'w', encoding='utf-8') as f:\n",
    "    json.dump(combined_data, f, indent=4, ensure_ascii=False)\n",
    "\n",
    "print(\"Combined data saved to articles.json.\")\n"
   ]
  },
  {
   "cell_type": "code",
   "execution_count": null,
   "metadata": {},
   "outputs": [],
   "source": []
  }
 ],
 "metadata": {
  "kernelspec": {
   "display_name": "Python 3",
   "language": "python",
   "name": "python3"
  },
  "language_info": {
   "codemirror_mode": {
    "name": "ipython",
    "version": 3
   },
   "file_extension": ".py",
   "mimetype": "text/x-python",
   "name": "python",
   "nbconvert_exporter": "python",
   "pygments_lexer": "ipython3",
   "version": "3.12.1"
  }
 },
 "nbformat": 4,
 "nbformat_minor": 2
}
