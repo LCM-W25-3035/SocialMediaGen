{
 "cells": [
  {
   "cell_type": "code",
   "execution_count": null,
   "metadata": {},
   "outputs": [
    {
     "name": "stdout",
     "output_type": "stream",
     "text": [
      "Updated articles.json with 20 new articles, Total unique articles: 42\n"
     ]
    }
   ],
   "source": [
    "import json\n",
    "import requests\n",
    "\n",
    "# API details\n",
    "api_key = \"c97ba69e6b0043b9bc149f5334359fd0\"\n",
    "endpoint = \"https://newsapi.org/v2/everything\"\n",
    "params = {\n",
    "    \"q\": \"technology\",\n",
    "    \"apiKey\": api_key,\n",
    "    \"language\": \"en\",\n",
    "    \"pageSize\": 20\n",
    "}\n",
    "\n",
    "# Step 1: Load existing data from JSON file\n",
    "filename = 'articles.json'\n",
    "try:\n",
    "    with open(filename, 'r', encoding='utf-8') as f:\n",
    "        existing_data = json.load(f)\n",
    "except FileNotFoundError:\n",
    "    existing_data = {\"articles\": []}  # Create new structure if file doesn't exist\n",
    "\n",
    "existing_articles = existing_data.get(\"articles\", [])\n",
    "\n",
    "# Step 2: Store existing URLs in a set for fast lookup\n",
    "unique_urls = {article['url'] for article in existing_articles if 'url' in article}\n",
    "\n",
    "# Step 3: Fetch new data from API\n",
    "response = requests.get(endpoint, params=params)\n",
    "if response.status_code == 200:\n",
    "    new_articles = response.json().get('articles', [])\n",
    "    \n",
    "    # Step 4: Add only unique articles\n",
    "    for article in new_articles:\n",
    "        url = article.get('url')\n",
    "        if url and url not in unique_urls:\n",
    "            unique_urls.add(url)  # Add new URL to set\n",
    "            existing_articles.append(article)  # Append unique articles\n",
    "\n",
    "# Step 5: Update total count\n",
    "existing_data[\"articles\"] = existing_articles\n",
    "existing_data[\"totalResults\"] = len(existing_articles)\n",
    "\n",
    "# Step 6: Save the combined and deduplicated data back to the file\n",
    "with open(filename, 'w', encoding='utf-8') as f:\n",
    "    json.dump(existing_data, f, indent=4, ensure_ascii=False)\n",
    "\n",
    "print(f\"Updated {filename} with {len(new_articles)} new articles, \"\n",
    "      f\"Total unique articles: {len(existing_articles)}\")\n"
   ]
  },
  {
   "cell_type": "code",
   "execution_count": null,
   "metadata": {},
   "outputs": [],
   "source": []
  }
 ],
 "metadata": {
  "kernelspec": {
   "display_name": "Python 3",
   "language": "python",
   "name": "python3"
  },
  "language_info": {
   "codemirror_mode": {
    "name": "ipython",
    "version": 3
   },
   "file_extension": ".py",
   "mimetype": "text/x-python",
   "name": "python",
   "nbconvert_exporter": "python",
   "pygments_lexer": "ipython3",
   "version": "3.12.1"
  }
 },
 "nbformat": 4,
 "nbformat_minor": 2
}
